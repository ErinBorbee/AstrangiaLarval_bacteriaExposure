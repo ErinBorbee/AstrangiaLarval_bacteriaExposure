{
 "cells": [
  {
   "cell_type": "markdown",
   "id": "f0b238a0",
   "metadata": {},
   "source": [
    "# Larval TagSeq Processing\n",
    "This notebook contains the code used to process the TagSeq data modified from Dr. Misha Matz's code (https://github.com/z0on/tag-based_RNAseq/blob/master/tagSeq_processing_README.txt) for running on the Texas State University HPC LEAP2. This code requires you to download the scripts from Dr. Matz's tag-based_RNAseq repository on GitHub and import it to the HPC. I store those scripts in my home directory and therefore, all of my code below will write the paths to each script starting from the home directory.\n",
    "\n",
    "The sequence data used in this code was from a project using *Astrangia poculata* larvae to look at the response of larvae to both probiotic and pathogenic bacteria and are published in the manuscript below.\n",
    "\n",
    "#### Manuscript Reference\n",
    "Borbee, E.M., Changsut, I.V., Bernabe, K., Schickle, A., Nelson, D., Sharp, K.H., and Fuess, L.E. (2025) Coral larvae have unique transcriptomic responses to pathogenic and probiotic bacteria. *In prep*.\n",
    "\n",
    "## Contents\n",
    "1. [Required programs](#1)\n",
    "2. [Quality assessment of reads](#2)\n",
    "3. [Adapter trimming, quality filtering, and deduplicating reads](#3)\n",
    "4. [Mapping reads to reference transcriptome](#4)\n",
    "5. [Generating counts per transcript](#5)\n",
    "6. [Compiling count matrix](#7)"
   ]
  },
  {
   "cell_type": "markdown",
   "id": "d7b54486",
   "metadata": {},
   "source": [
    "<a id=\"1\"></a>\n",
    "### 1. Required programs\n",
    "The programs you need to run this script include `fastqc`, `cutadapt`, `bowtie2`, and `samtools`. You will also need to download Dr. Matz's tag_based_RNAseq git repository to your computer so that the scripts contained in that repository are accessible from where you are running your code. Below I provide an example of a miniconda command I used to install `fastqc`, `cutadapt`, `bowtie2`, and `samtools`."
   ]
  },
  {
   "cell_type": "code",
   "execution_count": null,
   "id": "60e614cc",
   "metadata": {},
   "outputs": [],
   "source": [
    "conda install bioconda::cutadapt"
   ]
  },
  {
   "cell_type": "markdown",
   "id": "7cfdf7b8",
   "metadata": {},
   "source": [
    "<a id=2></a>\n",
    "### 2. Quality assessment of reads\n",
    "Raw sequencing reads were first quality assessed using the `fastqc` command below. We used this to make sure we had high quality reads across all samples and identify trimming parameters for the next step."
   ]
  },
  {
   "cell_type": "code",
   "execution_count": null,
   "id": "4b47155a",
   "metadata": {},
   "outputs": [],
   "source": [
    "fastqc *.fastq.gz"
   ]
  },
  {
   "cell_type": "markdown",
   "id": "ebf09da2",
   "metadata": {},
   "source": [
    "<a id=3></a>\n",
    "### 3. Adapter trimming, quality filtering, and deduplicating reads\n",
    "In this step we first use cutadapt to remove adapter sequences from reads and remove short or low quality reads and then use a custom perl script from Dr. Matz's GitHub to deduplicate the sequences. The code below is the slurm command that was submitted to the LEAP2 job manager to complete this step."
   ]
  },
  {
   "cell_type": "code",
   "execution_count": null,
   "id": "9047adb1",
   "metadata": {},
   "outputs": [],
   "source": [
    "#!/bin/bash\n",
    "#SBATCH --job-name=cutadapt\n",
    "#SBATCH -N 1\n",
    "#SBATCH -t 6-24:00\n",
    "#SBATCH --partition=shared\n",
    "#SBATCH --mem=50G\n",
    "#SBATCH --array=1-9%10\n",
    "#SBATCH --mail-type=end\n",
    "#SBATCH --mail-user=eborbee@txstate.edu\n",
    "#SBATCH -o cutadapt_%j.out\n",
    "#SBATCH -e cutadapt_%j.err\n",
    "\n",
    "~/tag-based_RNAseq/tagseq_clipper.pl raw_data/EB00${SLURM_ARRAY_TASK_ID}.fastq | cutadapt - -a AAAAAAAA -a AGATCGG -q 15 -m 25 -o EB00${SLURM_ARRAY_TASK_ID}_trimmed.fastq"
   ]
  },
  {
   "cell_type": "markdown",
   "id": "d65df880",
   "metadata": {},
   "source": [
    "This step filtered our initial 40,118,656 reads to 9,513,928 reads (24% of the dataset)."
   ]
  },
  {
   "cell_type": "markdown",
   "id": "a07f8a6c",
   "metadata": {},
   "source": [
    "### 4. Mapping reads to reference transcriptome\n",
    "Here we map the reads from our samples to an *Astrangia poculata* reference transcriptome. Below is first a command for building an index from the reference transcriptome and then the slurm script that was submitted to our job manager. Our reference transcriptome file came from the publication cited below.\n",
    "\n",
    "#### Reference transcriptome paper\n",
    "Changsut, I. V., Borbee, E. M., Womack, H. R., Shickle, A., Sharp, K. H., & Fuess, L. E. (2024). Photosymbiont density is correlated with constitutive and induced immunity in the facultatively symbiotic coral, Astrangia poculata. Integrative and Comparative Biology, 64(5), 1278-1290."
   ]
  },
  {
   "cell_type": "code",
   "execution_count": null,
   "id": "99beb56b",
   "metadata": {},
   "outputs": [],
   "source": [
    "bowtie2-build transcriptome.fasta transcriptome.fasta"
   ]
  },
  {
   "cell_type": "code",
   "execution_count": null,
   "id": "ab613da5",
   "metadata": {},
   "outputs": [],
   "source": [
    "#!/bin/bash\n",
    "#SBATCH --job-name=maps\n",
    "#SBATCH -N 1\n",
    "#SBATCH -t 6-24:00\n",
    "#SBATCH --partition=himem\n",
    "#SBATCH --mem=50G\n",
    "#SBATCH --array=1-9%10\n",
    "#SBATCH --open-mode=append\n",
    "#SBATCH --mail-type=end\n",
    "#SBATCH --mail-user=loe8@txstate.edu\n",
    "#SBATCH -o maps_%A.out\n",
    "#SBATCH -e maps_%A.err\n",
    "\n",
    "bowtie2 --local -x /home/loe8/AstrangiaTranscriptome_042622/filtered-final-transcriptome.fa -U EB00${SLURM_ARRAY_TASK_ID}_trimmed.fastq -S EB00${SLURM_ARRAY_TASK_ID}_trimmed.fastq.sam --no-hd --no-sq --no-unal -k 5"
   ]
  },
  {
   "cell_type": "markdown",
   "id": "7b006009",
   "metadata": {},
   "source": [
    "Next we ran a grep command to check the mapping rates of our transcripts to the reference transcriptome."
   ]
  },
  {
   "cell_type": "code",
   "execution_count": null,
   "id": "39ba0681",
   "metadata": {},
   "outputs": [],
   "source": [
    "grep \"overall alignment rate\" maps_5573.err"
   ]
  },
  {
   "cell_type": "markdown",
   "id": "9b045aff",
   "metadata": {},
   "source": [
    "The mapping rates for our data to the reference were as follows:\n",
    "\n",
    "`28.08% overall alignment rate\n",
    "36.81% overall alignment rate\n",
    "35.39% overall alignment rate\n",
    "28.88% overall alignment rate\n",
    "36.25% overall alignment rate\n",
    "29.49% overall alignment rate\n",
    "33.73% overall alignment rate\n",
    "31.57% overall alignment rate\n",
    "31.38% overall alignment rate\n",
    "26.14% overall alignment rate\n",
    "31.07% overall alignment rate\n",
    "32.83% overall alignment rate\n",
    "33.25% overall alignment rate\n",
    "29.34% overall alignment rate\n",
    "33.14% overall alignment rate`"
   ]
  },
  {
   "cell_type": "markdown",
   "id": "a31343e1",
   "metadata": {},
   "source": [
    "<a id=5></a>\n",
    "### Generating counts per transcript\n",
    "After mapping our transcripts to the reference transcriptome we then generated counts of each transcript per sample using `samtools`. Below is the slurm script submitted to the job manager used to do this. "
   ]
  },
  {
   "cell_type": "code",
   "execution_count": null,
   "id": "942dc411",
   "metadata": {},
   "outputs": [],
   "source": [
    "#!/bin/bash\n",
    "#SBATCH --job-name=samcount\n",
    "#SBATCH -N 1\n",
    "#SBATCH -t 6-24:00\n",
    "#SBATCH --partition=himem\n",
    "#SBATCH --mem=50G\n",
    "#SBATCH --array=1-9%10\n",
    "#SBATCH --open-mode=append\n",
    "#SBATCH --mail-type=end\n",
    "#SBATCH --mail-user=loe8@txstate.edu\n",
    "#SBATCH -o samcount_%A.out\n",
    "#SBATCH -e samcount_%A.err\n",
    "\n",
    "~/tag-based_RNAseq/samcount.pl EB00${SLURM_ARRAY_TASK_ID}_trimmed.fastq.sam transcriptome_seq2gene.tab aligner=bowtie2 >EB00${SLURM_ARRAY_TASK_ID}_trimmed.fastq.sam.counts"
   ]
  },
  {
   "cell_type": "markdown",
   "id": "863b520a",
   "metadata": {},
   "source": [
    "<a id=6></a>\n",
    "### Compiling count matrix\n",
    "After generating the count files we then combined the individual sample files into a single count matrix using a custom perl script from Dr. Matz's GitHub. The command we used to run that is provided below."
   ]
  },
  {
   "cell_type": "code",
   "execution_count": null,
   "id": "aa37e26a",
   "metadata": {},
   "outputs": [],
   "source": [
    "~/tag-based_RNAseq/expression_compiler.pl *.sam.counts > allcounts.txt"
   ]
  }
 ],
 "metadata": {
  "kernelspec": {
   "display_name": "Bash",
   "language": "bash",
   "name": "bash"
  },
  "language_info": {
   "codemirror_mode": "shell",
   "file_extension": ".sh",
   "mimetype": "text/x-sh",
   "name": "bash"
  }
 },
 "nbformat": 4,
 "nbformat_minor": 5
}
